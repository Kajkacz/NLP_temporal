{
 "cells": [
  {
   "cell_type": "code",
   "execution_count": 11,
   "metadata": {},
   "outputs": [],
   "source": [
    "import pandas\n",
    "\n",
    "test_raw = pandas.read_csv('kpwr-time_TEST.txt',index_col=False, sep = '\\t', names=['ORDER_ID','TOKEN_ID','ORTH','LEMMA','POS','CTAG','LABEL'])\n",
    "train_raw = pandas.read_csv('kpwr-time_TRAIN.txt',index_col=False, sep = '\\t', names=['ORDER_ID','TOKEN_ID','ORTH','LEMMA','POS','CTAG','LABEL'])\n"
   ]
  }
 ],
 "metadata": {
  "interpreter": {
   "hash": "153fffcb6452074ebcbc9f5807dcc006d9e3a28ff722ca59fd6a7bc0add3f971"
  },
  "kernelspec": {
   "display_name": "Python 3.9.5 64-bit ('pyenv': venv)",
   "language": "python",
   "name": "python3"
  },
  "language_info": {
   "codemirror_mode": {
    "name": "ipython",
    "version": 3
   },
   "file_extension": ".py",
   "mimetype": "text/x-python",
   "name": "python",
   "nbconvert_exporter": "python",
   "pygments_lexer": "ipython3",
   "version": "3.9.5"
  },
  "orig_nbformat": 4
 },
 "nbformat": 4,
 "nbformat_minor": 2
}
