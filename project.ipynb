{
 "cells": [
  {
   "cell_type": "code",
   "execution_count": 1,
   "metadata": {},
   "outputs": [
    {
     "name": "stdout",
     "output_type": "stream",
     "text": [
      "ORDER_ID                 0\n",
      "TOKEN_ID                 0\n",
      "ORTH             RoboRally\n",
      "LEMMA            roborally\n",
      "POS                  subst\n",
      "CTAG        subst:sg:nom:n\n",
      "LABEL                    O\n",
      "Name: 0, dtype: object\n"
     ]
    }
   ],
   "source": [
    "import pandas\n",
    "columns = ['ORDER_ID','TOKEN_ID','ORTH','LEMMA','POS','CTAG','LABEL']\n",
    "test_raw = pandas.read_csv('kpwr-time_TEST.txt',index_col=False, sep = '\\t', names=columns)\n",
    "train_raw = pandas.read_csv('kpwr-time_TRAIN.txt',index_col=False, sep = '\\t', names=columns)\n",
    "print(train_raw.iloc[0])"
   ]
  },
  {
   "cell_type": "code",
   "execution_count": 2,
   "metadata": {},
   "outputs": [
    {
     "name": "stdout",
     "output_type": "stream",
     "text": [
      "count before dropping nulls : train - 363366, test - 87032\n",
      "count before dropping nulls : train - 362104, test - 86560\n",
      "Unique labels : ['O' 't3_duration-B' 't3_date-B' 't3_duration-I' 't3_set-B' 't3_date-I'\n",
      " 't3_time-B' 't3_time-I' 't3_set-I']\n"
     ]
    }
   ],
   "source": [
    "print(f'count before dropping nulls : train - {train_raw.shape[0]}, test - {test_raw.shape[0]}')\n",
    "\n",
    "train_raw = train_raw.dropna()\n",
    "test_raw = test_raw.dropna()\n",
    "\n",
    "print(f'count before dropping nulls : train - {train_raw.shape[0]}, test - {test_raw.shape[0]}')\n",
    "print(f\"Unique labels : {train_raw['LABEL'].unique()}\")"
   ]
  },
  {
   "cell_type": "code",
   "execution_count": 3,
   "metadata": {},
   "outputs": [],
   "source": [
    "import matplotlib.pyplot as plt\n",
    "plt.style.use('ggplot')\n",
    "\n",
    "def plot_history(history):\n",
    "    acc = history.history['accuracy']\n",
    "    val_acc = history.history['val_accuracy']\n",
    "    loss = history.history['loss']\n",
    "    val_loss = history.history['val_loss']\n",
    "    x = range(1, len(acc) + 1)\n",
    "\n",
    "    plt.figure(figsize=(12, 5))\n",
    "    plt.subplot(1, 2, 1)\n",
    "    plt.plot(x, acc, 'b', label='Training acc')\n",
    "    plt.plot(x, val_acc, 'r', label='Validation acc')\n",
    "    plt.title('Training and validation accuracy')\n",
    "    plt.legend()\n",
    "    plt.subplot(1, 2, 2)\n",
    "    plt.plot(x, loss, 'b', label='Training loss')\n",
    "    plt.plot(x, val_loss, 'r', label='Validation loss')\n",
    "    plt.title('Training and validation loss')\n",
    "    plt.legend()"
   ]
  },
  {
   "cell_type": "code",
   "execution_count": 4,
   "metadata": {},
   "outputs": [],
   "source": [
    "from keras.preprocessing.sequence import pad_sequences\n",
    "from keras.preprocessing.text import Tokenizer\n",
    "import numpy as np\n",
    "\n",
    "tokenizable_columns = ['ORTH','LEMMA','POS','CTAG','LABEL']\n",
    "for column in tokenizable_columns:\n",
    "    train_raw[column] = train_raw[column].astype(str)\n",
    "    test_raw[column] = test_raw[column].astype(str)"
   ]
  },
  {
   "cell_type": "code",
   "execution_count": 5,
   "metadata": {},
   "outputs": [],
   "source": [
    "for column in ['ORTH','LEMMA','POS','LABEL']:\n",
    "    train_raw[column] = train_raw[column].replace(':','XX_SEMICOLON_XX')\n",
    "    test_raw[column] = test_raw[column].replace(':','XX_SEMICOLON_XX')"
   ]
  },
  {
   "cell_type": "code",
   "execution_count": 6,
   "metadata": {},
   "outputs": [
    {
     "name": "stdout",
     "output_type": "stream",
     "text": [
      "   ORDER_ID  TOKEN_ID     ORTH    LEMMA   POS               CTAG LABEL\n",
      "0         0         0  [28848]  [16623]   [1]      [2, 1, 7, 13]   [1]\n",
      "1         1         1     [40]     [50]   [6]               [22]   [1]\n",
      "2         2         2   [2328]    [116]   [3]  [10, 1, 7, 13, 9]   [1]\n",
      "3         3         3   [2067]   [1266]   [1]      [2, 1, 7, 13]   [1]\n",
      "4         4         4     [20]     [25]   [2]                [4]   [1]\n",
      "5         5         0    [344]    [499]  [15]               [34]   [1]\n",
      "6         6         1      [9]     [10]   [6]               [22]   [1]\n",
      "   ORDER_ID  TOKEN_ID     ORTH    LEMMA  POS            CTAG LABEL\n",
      "0    363366         0      [6]      [7]  [4]        [11, 14]   [1]\n",
      "1    363367         1    [309]    [199]  [1]  [2, 1, 14, 13]   [1]\n",
      "2    363368         2     [17]     [20]  [4]        [11, 14]   [1]\n",
      "3    363369         3     [13]     [13]  [1]  [2, 1, 14, 13]   [1]\n",
      "4    363370         4    [663]    [229]  [1]  [2, 1, 14, 13]   [1]\n",
      "5    363371         5  [57277]  [12813]  [1]   [2, 1, 7, 16]   [1]\n",
      "6    363372         6     [22]     [27]  [1]    [2, 1, 3, 6]   [1]\n"
     ]
    }
   ],
   "source": [
    "train = train_raw.copy()\n",
    "test = test_raw.copy()\n",
    "for column in tokenizable_columns:\n",
    "    token_list = train_raw[column].values.tolist()\n",
    "    token_list.extend(test_raw[column].values.tolist())\n",
    "    token_count = len(train_raw[column].unique()) + len(test_raw[column].unique()) + 1\n",
    "    tokenizer = Tokenizer(num_words=token_count, filters = '', split=':')\n",
    "    tokenizer.fit_on_texts(token_list)\n",
    "    train[column] = tokenizer.texts_to_sequences(train_raw[column])\n",
    "    test[column] = tokenizer.texts_to_sequences(test_raw[column])\n",
    "\n",
    "vocab_size = len(tokenizer.word_index) + 1  # Adding 1 because of reserved 0 index\n",
    "\n",
    "print(train.iloc[0:7])\n",
    "print(test.iloc[0:7])"
   ]
  },
  {
   "cell_type": "code",
   "execution_count": 7,
   "metadata": {},
   "outputs": [],
   "source": [
    "from keras.preprocessing.sequence import pad_sequences\n",
    "\n",
    "train_columns = ['ORDER_ID','ORTH','LEMMA','POS','CTAG','LABEL']\n",
    "\n",
    "x_train = train.copy()[train_columns]\n",
    "x_test = test.copy()[train_columns]\n",
    "\n",
    "ctag_count = 6\n",
    "\n",
    "x_train['CTAG'] = pandas.Series(pad_sequences(train['CTAG'],padding='post',  maxlen=ctag_count).tolist())\n",
    "x_test['CTAG'] = pandas.Series(pad_sequences(test['CTAG'],padding='post',  maxlen=ctag_count).tolist())"
   ]
  },
  {
   "cell_type": "code",
   "execution_count": 8,
   "metadata": {},
   "outputs": [
    {
     "name": "stdout",
     "output_type": "stream",
     "text": [
      "   ORDER_ID   ORTH  LEMMA  POS                  CTAG LABEL\n",
      "0         0  28848  16623    1   [2, 1, 7, 13, 0, 0]   [1]\n",
      "1         1     40     50    6   [22, 0, 0, 0, 0, 0]   [1]\n",
      "2         2   2328    116    3  [10, 1, 7, 13, 9, 0]   [1]\n",
      "3         3   2067   1266    1   [2, 1, 7, 13, 0, 0]   [1]\n",
      "4         4     20     25    2    [4, 0, 0, 0, 0, 0]   [1]\n"
     ]
    }
   ],
   "source": [
    "for c in ['ORTH','LEMMA','POS']:\n",
    "    x_train[c] =  x_train[c].apply(lambda a : a[0] if isinstance(a,list) else a)\n",
    "    x_test[c] =  x_test[c].apply(lambda a : a[0] if isinstance(a,list) else a)\n",
    "print(x_train[0:5])\n"
   ]
  },
  {
   "cell_type": "code",
   "execution_count": 9,
   "metadata": {},
   "outputs": [
    {
     "name": "stdout",
     "output_type": "stream",
     "text": [
      "   ORDER_ID   ORTH  LEMMA  POS                  CTAG LABEL\n",
      "0         0  28848  16623    1   [2, 1, 7, 13, 0, 0]   [1]\n",
      "1         1     40     50    6   [22, 0, 0, 0, 0, 0]   [1]\n",
      "2         2   2328    116    3  [10, 1, 7, 13, 9, 0]   [1]\n",
      "3         3   2067   1266    1   [2, 1, 7, 13, 0, 0]   [1]\n",
      "4         4     20     25    2    [4, 0, 0, 0, 0, 0]   [1]\n",
      "   ORDER_ID  ORTH  LEMMA  POS                  CTAG LABEL\n",
      "0    363366     6      7    4  [11, 14, 0, 0, 0, 0]   [1]\n",
      "1    363367   309    199    1  [2, 1, 14, 13, 0, 0]   [1]\n",
      "2    363368    17     20    4  [11, 14, 0, 0, 0, 0]   [1]\n",
      "3    363369    13     13    1  [2, 1, 14, 13, 0, 0]   [1]\n",
      "4    363370   663    229    1  [2, 1, 14, 13, 0, 0]   [1]\n"
     ]
    }
   ],
   "source": [
    "\n",
    "print(x_train[0:5])\n",
    "print(x_test[0:5])"
   ]
  },
  {
   "cell_type": "markdown",
   "metadata": {},
   "source": [
    "First idea of a naive neural network"
   ]
  },
  {
   "cell_type": "code",
   "execution_count": 10,
   "metadata": {},
   "outputs": [],
   "source": [
    "x_train.dropna(inplace=True)\n",
    "x_test.dropna(inplace=True)"
   ]
  },
  {
   "cell_type": "code",
   "execution_count": 11,
   "metadata": {},
   "outputs": [
    {
     "data": {
      "text/html": [
       "<div>\n",
       "<style scoped>\n",
       "    .dataframe tbody tr th:only-of-type {\n",
       "        vertical-align: middle;\n",
       "    }\n",
       "\n",
       "    .dataframe tbody tr th {\n",
       "        vertical-align: top;\n",
       "    }\n",
       "\n",
       "    .dataframe thead th {\n",
       "        text-align: right;\n",
       "    }\n",
       "</style>\n",
       "<table border=\"1\" class=\"dataframe\">\n",
       "  <thead>\n",
       "    <tr style=\"text-align: right;\">\n",
       "      <th></th>\n",
       "      <th>ORTH</th>\n",
       "      <th>LEMMA</th>\n",
       "      <th>POS</th>\n",
       "      <th>CTAG_0</th>\n",
       "      <th>CTAG_1</th>\n",
       "      <th>CTAG_2</th>\n",
       "      <th>CTAG_3</th>\n",
       "      <th>CTAG_4</th>\n",
       "      <th>CTAG_5</th>\n",
       "    </tr>\n",
       "  </thead>\n",
       "  <tbody>\n",
       "    <tr>\n",
       "      <th>0</th>\n",
       "      <td>28848</td>\n",
       "      <td>16623</td>\n",
       "      <td>1</td>\n",
       "      <td>2</td>\n",
       "      <td>1</td>\n",
       "      <td>7</td>\n",
       "      <td>13</td>\n",
       "      <td>0</td>\n",
       "      <td>0</td>\n",
       "    </tr>\n",
       "    <tr>\n",
       "      <th>1</th>\n",
       "      <td>40</td>\n",
       "      <td>50</td>\n",
       "      <td>6</td>\n",
       "      <td>22</td>\n",
       "      <td>0</td>\n",
       "      <td>0</td>\n",
       "      <td>0</td>\n",
       "      <td>0</td>\n",
       "      <td>0</td>\n",
       "    </tr>\n",
       "    <tr>\n",
       "      <th>2</th>\n",
       "      <td>2328</td>\n",
       "      <td>116</td>\n",
       "      <td>3</td>\n",
       "      <td>10</td>\n",
       "      <td>1</td>\n",
       "      <td>7</td>\n",
       "      <td>13</td>\n",
       "      <td>9</td>\n",
       "      <td>0</td>\n",
       "    </tr>\n",
       "    <tr>\n",
       "      <th>3</th>\n",
       "      <td>2067</td>\n",
       "      <td>1266</td>\n",
       "      <td>1</td>\n",
       "      <td>2</td>\n",
       "      <td>1</td>\n",
       "      <td>7</td>\n",
       "      <td>13</td>\n",
       "      <td>0</td>\n",
       "      <td>0</td>\n",
       "    </tr>\n",
       "    <tr>\n",
       "      <th>4</th>\n",
       "      <td>20</td>\n",
       "      <td>25</td>\n",
       "      <td>2</td>\n",
       "      <td>4</td>\n",
       "      <td>0</td>\n",
       "      <td>0</td>\n",
       "      <td>0</td>\n",
       "      <td>0</td>\n",
       "      <td>0</td>\n",
       "    </tr>\n",
       "    <tr>\n",
       "      <th>...</th>\n",
       "      <td>...</td>\n",
       "      <td>...</td>\n",
       "      <td>...</td>\n",
       "      <td>...</td>\n",
       "      <td>...</td>\n",
       "      <td>...</td>\n",
       "      <td>...</td>\n",
       "      <td>...</td>\n",
       "      <td>...</td>\n",
       "    </tr>\n",
       "    <tr>\n",
       "      <th>360847</th>\n",
       "      <td>1091</td>\n",
       "      <td>78</td>\n",
       "      <td>3</td>\n",
       "      <td>20</td>\n",
       "      <td>1</td>\n",
       "      <td>19</td>\n",
       "      <td>18</td>\n",
       "      <td>0</td>\n",
       "      <td>0</td>\n",
       "    </tr>\n",
       "    <tr>\n",
       "      <th>360848</th>\n",
       "      <td>2004</td>\n",
       "      <td>1985</td>\n",
       "      <td>1</td>\n",
       "      <td>11</td>\n",
       "      <td>12</td>\n",
       "      <td>17</td>\n",
       "      <td>0</td>\n",
       "      <td>0</td>\n",
       "      <td>0</td>\n",
       "    </tr>\n",
       "    <tr>\n",
       "      <th>360849</th>\n",
       "      <td>1018</td>\n",
       "      <td>690</td>\n",
       "      <td>8</td>\n",
       "      <td>1</td>\n",
       "      <td>12</td>\n",
       "      <td>5</td>\n",
       "      <td>19</td>\n",
       "      <td>37</td>\n",
       "      <td>55</td>\n",
       "    </tr>\n",
       "    <tr>\n",
       "      <th>360850</th>\n",
       "      <td>8</td>\n",
       "      <td>9</td>\n",
       "      <td>4</td>\n",
       "      <td>2</td>\n",
       "      <td>1</td>\n",
       "      <td>3</td>\n",
       "      <td>5</td>\n",
       "      <td>0</td>\n",
       "      <td>0</td>\n",
       "    </tr>\n",
       "    <tr>\n",
       "      <th>360851</th>\n",
       "      <td>1829</td>\n",
       "      <td>1262</td>\n",
       "      <td>1</td>\n",
       "      <td>4</td>\n",
       "      <td>0</td>\n",
       "      <td>0</td>\n",
       "      <td>0</td>\n",
       "      <td>0</td>\n",
       "      <td>0</td>\n",
       "    </tr>\n",
       "  </tbody>\n",
       "</table>\n",
       "<p>359609 rows × 9 columns</p>\n",
       "</div>"
      ],
      "text/plain": [
       "         ORTH  LEMMA  POS  CTAG_0  CTAG_1  CTAG_2  CTAG_3  CTAG_4  CTAG_5\n",
       "0       28848  16623    1       2       1       7      13       0       0\n",
       "1          40     50    6      22       0       0       0       0       0\n",
       "2        2328    116    3      10       1       7      13       9       0\n",
       "3        2067   1266    1       2       1       7      13       0       0\n",
       "4          20     25    2       4       0       0       0       0       0\n",
       "...       ...    ...  ...     ...     ...     ...     ...     ...     ...\n",
       "360847   1091     78    3      20       1      19      18       0       0\n",
       "360848   2004   1985    1      11      12      17       0       0       0\n",
       "360849   1018    690    8       1      12       5      19      37      55\n",
       "360850      8      9    4       2       1       3       5       0       0\n",
       "360851   1829   1262    1       4       0       0       0       0       0\n",
       "\n",
       "[359609 rows x 9 columns]"
      ]
     },
     "execution_count": 11,
     "metadata": {},
     "output_type": "execute_result"
    }
   ],
   "source": [
    "cols_to_drop = ['ORDER_ID','CTAG','LABEL']\n",
    "ctag_cols = [f'CTAG_{i}' for i in range(0,6)]\n",
    "ctag_split = pandas.DataFrame(x_train['CTAG'].to_list(), columns = ctag_cols)\n",
    "x_train_split = x_train.join(ctag_split, how = 'inner')\n",
    "x_train_split.dropna(inplace=True)\n",
    "y_train = x_train_split['LABEL']\n",
    "x_train_split.drop(columns = cols_to_drop, inplace = True)\n",
    "x_train_split"
   ]
  },
  {
   "cell_type": "code",
   "execution_count": 12,
   "metadata": {},
   "outputs": [
    {
     "data": {
      "text/html": [
       "<div>\n",
       "<style scoped>\n",
       "    .dataframe tbody tr th:only-of-type {\n",
       "        vertical-align: middle;\n",
       "    }\n",
       "\n",
       "    .dataframe tbody tr th {\n",
       "        vertical-align: top;\n",
       "    }\n",
       "\n",
       "    .dataframe thead th {\n",
       "        text-align: right;\n",
       "    }\n",
       "</style>\n",
       "<table border=\"1\" class=\"dataframe\">\n",
       "  <thead>\n",
       "    <tr style=\"text-align: right;\">\n",
       "      <th></th>\n",
       "      <th>ORTH</th>\n",
       "      <th>LEMMA</th>\n",
       "      <th>POS</th>\n",
       "      <th>CTAG_0</th>\n",
       "      <th>CTAG_1</th>\n",
       "      <th>CTAG_2</th>\n",
       "      <th>CTAG_3</th>\n",
       "      <th>CTAG_4</th>\n",
       "      <th>CTAG_5</th>\n",
       "    </tr>\n",
       "  </thead>\n",
       "  <tbody>\n",
       "    <tr>\n",
       "      <th>0</th>\n",
       "      <td>6</td>\n",
       "      <td>7</td>\n",
       "      <td>4</td>\n",
       "      <td>11</td>\n",
       "      <td>14</td>\n",
       "      <td>0</td>\n",
       "      <td>0</td>\n",
       "      <td>0</td>\n",
       "      <td>0</td>\n",
       "    </tr>\n",
       "    <tr>\n",
       "      <th>1</th>\n",
       "      <td>309</td>\n",
       "      <td>199</td>\n",
       "      <td>1</td>\n",
       "      <td>2</td>\n",
       "      <td>1</td>\n",
       "      <td>14</td>\n",
       "      <td>13</td>\n",
       "      <td>0</td>\n",
       "      <td>0</td>\n",
       "    </tr>\n",
       "    <tr>\n",
       "      <th>2</th>\n",
       "      <td>17</td>\n",
       "      <td>20</td>\n",
       "      <td>4</td>\n",
       "      <td>11</td>\n",
       "      <td>14</td>\n",
       "      <td>0</td>\n",
       "      <td>0</td>\n",
       "      <td>0</td>\n",
       "      <td>0</td>\n",
       "    </tr>\n",
       "    <tr>\n",
       "      <th>3</th>\n",
       "      <td>13</td>\n",
       "      <td>13</td>\n",
       "      <td>1</td>\n",
       "      <td>2</td>\n",
       "      <td>1</td>\n",
       "      <td>14</td>\n",
       "      <td>13</td>\n",
       "      <td>0</td>\n",
       "      <td>0</td>\n",
       "    </tr>\n",
       "    <tr>\n",
       "      <th>4</th>\n",
       "      <td>663</td>\n",
       "      <td>229</td>\n",
       "      <td>1</td>\n",
       "      <td>2</td>\n",
       "      <td>1</td>\n",
       "      <td>14</td>\n",
       "      <td>13</td>\n",
       "      <td>0</td>\n",
       "      <td>0</td>\n",
       "    </tr>\n",
       "    <tr>\n",
       "      <th>...</th>\n",
       "      <td>...</td>\n",
       "      <td>...</td>\n",
       "      <td>...</td>\n",
       "      <td>...</td>\n",
       "      <td>...</td>\n",
       "      <td>...</td>\n",
       "      <td>...</td>\n",
       "      <td>...</td>\n",
       "      <td>...</td>\n",
       "    </tr>\n",
       "    <tr>\n",
       "      <th>86083</th>\n",
       "      <td>51</td>\n",
       "      <td>11</td>\n",
       "      <td>16</td>\n",
       "      <td>4</td>\n",
       "      <td>0</td>\n",
       "      <td>0</td>\n",
       "      <td>0</td>\n",
       "      <td>0</td>\n",
       "      <td>0</td>\n",
       "    </tr>\n",
       "    <tr>\n",
       "      <th>86084</th>\n",
       "      <td>65009</td>\n",
       "      <td>15409</td>\n",
       "      <td>13</td>\n",
       "      <td>23</td>\n",
       "      <td>0</td>\n",
       "      <td>0</td>\n",
       "      <td>0</td>\n",
       "      <td>0</td>\n",
       "      <td>0</td>\n",
       "    </tr>\n",
       "    <tr>\n",
       "      <th>86085</th>\n",
       "      <td>9</td>\n",
       "      <td>10</td>\n",
       "      <td>6</td>\n",
       "      <td>10</td>\n",
       "      <td>1</td>\n",
       "      <td>14</td>\n",
       "      <td>5</td>\n",
       "      <td>9</td>\n",
       "      <td>0</td>\n",
       "    </tr>\n",
       "    <tr>\n",
       "      <th>86086</th>\n",
       "      <td>14</td>\n",
       "      <td>4</td>\n",
       "      <td>5</td>\n",
       "      <td>2</td>\n",
       "      <td>1</td>\n",
       "      <td>14</td>\n",
       "      <td>5</td>\n",
       "      <td>0</td>\n",
       "      <td>0</td>\n",
       "    </tr>\n",
       "    <tr>\n",
       "      <th>86087</th>\n",
       "      <td>771</td>\n",
       "      <td>656</td>\n",
       "      <td>3</td>\n",
       "      <td>4</td>\n",
       "      <td>0</td>\n",
       "      <td>0</td>\n",
       "      <td>0</td>\n",
       "      <td>0</td>\n",
       "      <td>0</td>\n",
       "    </tr>\n",
       "  </tbody>\n",
       "</table>\n",
       "<p>85616 rows × 9 columns</p>\n",
       "</div>"
      ],
      "text/plain": [
       "        ORTH  LEMMA  POS  CTAG_0  CTAG_1  CTAG_2  CTAG_3  CTAG_4  CTAG_5\n",
       "0          6      7    4      11      14       0       0       0       0\n",
       "1        309    199    1       2       1      14      13       0       0\n",
       "2         17     20    4      11      14       0       0       0       0\n",
       "3         13     13    1       2       1      14      13       0       0\n",
       "4        663    229    1       2       1      14      13       0       0\n",
       "...      ...    ...  ...     ...     ...     ...     ...     ...     ...\n",
       "86083     51     11   16       4       0       0       0       0       0\n",
       "86084  65009  15409   13      23       0       0       0       0       0\n",
       "86085      9     10    6      10       1      14       5       9       0\n",
       "86086     14      4    5       2       1      14       5       0       0\n",
       "86087    771    656    3       4       0       0       0       0       0\n",
       "\n",
       "[85616 rows x 9 columns]"
      ]
     },
     "execution_count": 12,
     "metadata": {},
     "output_type": "execute_result"
    }
   ],
   "source": [
    "ctag_split_test = pandas.DataFrame(x_test['CTAG'].to_list(), columns = ctag_cols)\n",
    "x_test_split = x_test.join(ctag_split_test, how = 'inner')\n",
    "x_test_split.dropna(inplace=True)\n",
    "y_test = x_test_split['LABEL']\n",
    "x_test_split.drop(columns = cols_to_drop, inplace = True)\n",
    "x_test_split"
   ]
  },
  {
   "cell_type": "code",
   "execution_count": 13,
   "metadata": {},
   "outputs": [
    {
     "data": {
      "text/plain": [
       "array([[28848, 16623,     1, ...,    13,     0,     0],\n",
       "       [   40,    50,     6, ...,     0,     0,     0],\n",
       "       [ 2328,   116,     3, ...,    13,     9,     0],\n",
       "       ...,\n",
       "       [ 1018,   690,     8, ...,    19,    37,    55],\n",
       "       [    8,     9,     4, ...,     5,     0,     0],\n",
       "       [ 1829,  1262,     1, ...,     0,     0,     0]], dtype=int64)"
      ]
     },
     "execution_count": 13,
     "metadata": {},
     "output_type": "execute_result"
    }
   ],
   "source": [
    "final_cols = train_columns + ctag_cols\n",
    "for c in cols_to_drop:\n",
    "    final_cols.remove(c)\n",
    "x_train_stacked = np.vstack(x_train_split[final_cols].values)\n",
    "x_train_stacked"
   ]
  },
  {
   "cell_type": "code",
   "execution_count": 14,
   "metadata": {},
   "outputs": [
    {
     "data": {
      "text/plain": [
       "array([[  6,   7,   4, ...,   0,   0,   0],\n",
       "       [309, 199,   1, ...,  13,   0,   0],\n",
       "       [ 17,  20,   4, ...,   0,   0,   0],\n",
       "       ...,\n",
       "       [  9,  10,   6, ...,   5,   9,   0],\n",
       "       [ 14,   4,   5, ...,   5,   0,   0],\n",
       "       [771, 656,   3, ...,   0,   0,   0]], dtype=int64)"
      ]
     },
     "execution_count": 14,
     "metadata": {},
     "output_type": "execute_result"
    }
   ],
   "source": [
    "x_test_stacked = np.vstack(x_test_split[final_cols].values)\n",
    "x_test_stacked"
   ]
  },
  {
   "cell_type": "code",
   "execution_count": 15,
   "metadata": {},
   "outputs": [],
   "source": [
    "y_train =  y_train.apply(lambda a : a[0] if isinstance(a,list) else a)\n",
    "y_test =  y_test.apply(lambda a : a[0] if isinstance(a,list) else a)"
   ]
  },
  {
   "cell_type": "code",
   "execution_count": 16,
   "metadata": {},
   "outputs": [
    {
     "name": "stdout",
     "output_type": "stream",
     "text": [
      "[[1. 0. 0. ... 0. 0. 0.]\n",
      " [1. 0. 0. ... 0. 0. 0.]\n",
      " [1. 0. 0. ... 0. 0. 0.]\n",
      " ...\n",
      " [1. 0. 0. ... 0. 0. 0.]\n",
      " [1. 0. 0. ... 0. 0. 0.]\n",
      " [1. 0. 0. ... 0. 0. 0.]]\n"
     ]
    }
   ],
   "source": [
    "from sklearn.preprocessing import OneHotEncoder\n",
    "onehot_encoder  = OneHotEncoder(sparse=False)\n",
    "y_train_encoded = onehot_encoder.fit_transform(y_train.values.reshape(-1, 1))\n",
    "y_test_encoded = onehot_encoder.fit_transform(y_test.values.reshape(-1, 1))\n",
    "print(y_test_encoded)"
   ]
  },
  {
   "cell_type": "code",
   "execution_count": 17,
   "metadata": {},
   "outputs": [
    {
     "name": "stdout",
     "output_type": "stream",
     "text": [
      "Model: \"sequential\"\n",
      "_________________________________________________________________\n",
      " Layer (type)                Output Shape              Param #   \n",
      "=================================================================\n",
      " dense (Dense)               (None, 10)                100       \n",
      "                                                                 \n",
      " dense_1 (Dense)             (None, 10)                110       \n",
      "                                                                 \n",
      " dense_2 (Dense)             (None, 10)                110       \n",
      "                                                                 \n",
      " dense_3 (Dense)             (None, 9)                 99        \n",
      "                                                                 \n",
      "=================================================================\n",
      "Total params: 419\n",
      "Trainable params: 419\n",
      "Non-trainable params: 0\n",
      "_________________________________________________________________\n"
     ]
    }
   ],
   "source": [
    "from keras.models import Sequential\n",
    "from keras import layers\n",
    "\n",
    "input_dim = x_train_stacked.shape[1]\n",
    "\n",
    "model = Sequential()\n",
    "model.add(layers.Dense(10, input_dim=input_dim, activation='relu'))\n",
    "model.add(layers.Dense(10, activation='relu'))\n",
    "model.add(layers.Dense(10, activation='relu'))\n",
    "model.add(layers.Dense(9, activation='sigmoid'))\n",
    "\n",
    "model.compile(loss='categorical_crossentropy', \n",
    "              optimizer='adam', \n",
    "              metrics=['accuracy'])\n",
    "model.summary()\n"
   ]
  },
  {
   "cell_type": "code",
   "execution_count": 18,
   "metadata": {},
   "outputs": [
    {
     "name": "stdout",
     "output_type": "stream",
     "text": [
      "Epoch 1/10\n",
      "7193/7193 [==============================] - 6s 741us/step - loss: 2.0675 - accuracy: 0.9701 - val_loss: 0.4983 - val_accuracy: 0.9266\n",
      "Epoch 2/10\n",
      "7193/7193 [==============================] - 6s 806us/step - loss: 0.1360 - accuracy: 0.9787 - val_loss: 0.2802 - val_accuracy: 0.9420\n",
      "Epoch 3/10\n",
      "7193/7193 [==============================] - 6s 867us/step - loss: 0.1239 - accuracy: 0.9787 - val_loss: 0.2880 - val_accuracy: 0.9420\n",
      "Epoch 4/10\n",
      "7193/7193 [==============================] - 5s 715us/step - loss: 0.1204 - accuracy: 0.9788 - val_loss: 0.2786 - val_accuracy: 0.9423\n",
      "Epoch 5/10\n",
      "7193/7193 [==============================] - 5s 694us/step - loss: 0.1190 - accuracy: 0.9792 - val_loss: 0.2678 - val_accuracy: 0.9425\n",
      "Epoch 6/10\n",
      "7193/7193 [==============================] - 5s 713us/step - loss: 0.1178 - accuracy: 0.9794 - val_loss: 0.2678 - val_accuracy: 0.9429\n",
      "Epoch 7/10\n",
      "7193/7193 [==============================] - 5s 703us/step - loss: 0.1180 - accuracy: 0.9796 - val_loss: 0.2605 - val_accuracy: 0.9429\n",
      "Epoch 8/10\n",
      "7193/7193 [==============================] - 5s 702us/step - loss: 0.1165 - accuracy: 0.9796 - val_loss: 0.2658 - val_accuracy: 0.9429\n",
      "Epoch 9/10\n",
      "7193/7193 [==============================] - 5s 732us/step - loss: 0.1161 - accuracy: 0.9797 - val_loss: 0.2684 - val_accuracy: 0.9430\n",
      "Epoch 10/10\n",
      "7193/7193 [==============================] - 5s 743us/step - loss: 0.1173 - accuracy: 0.9797 - val_loss: 0.2632 - val_accuracy: 0.9429\n"
     ]
    }
   ],
   "source": [
    "from keras.backend import clear_session\n",
    "clear_session()\n",
    "history = model.fit(x_train_stacked, y_train_encoded,\n",
    "                    epochs=10,\n",
    "                    # verbose=False,\n",
    "                    validation_data=(x_test_stacked, y_test_encoded),\n",
    "                    batch_size=50)"
   ]
  },
  {
   "cell_type": "code",
   "execution_count": 19,
   "metadata": {},
   "outputs": [
    {
     "data": {
      "image/png": "[encoded data removed]",
      "text/plain": [
       "<Figure size 864x360 with 2 Axes>"
      ]
     },
     "metadata": {},
     "output_type": "display_data"
    }
   ],
   "source": [
    "plot_history(history)"
   ]
  },
  {
   "cell_type": "code",
   "execution_count": 20,
   "metadata": {},
   "outputs": [
    {
     "name": "stdout",
     "output_type": "stream",
     "text": [
      "Model: \"sequential\"\n",
      "_________________________________________________________________\n",
      " Layer (type)                Output Shape              Param #   \n",
      "=================================================================\n",
      " dense (Dense)               (None, 100)               1000      \n",
      "                                                                 \n",
      " dense_1 (Dense)             (None, 100)               10100     \n",
      "                                                                 \n",
      " dense_2 (Dense)             (None, 100)               10100     \n",
      "                                                                 \n",
      " dense_3 (Dense)             (None, 9)                 909       \n",
      "                                                                 \n",
      "=================================================================\n",
      "Total params: 22,109\n",
      "Trainable params: 22,109\n",
      "Non-trainable params: 0\n",
      "_________________________________________________________________\n"
     ]
    }
   ],
   "source": [
    "from keras.models import Sequential\n",
    "from keras import layers\n",
    "\n",
    "\n",
    "model = Sequential()\n",
    "model.add(layers.Dense(100, input_dim=input_dim, activation='relu'))\n",
    "model.add(layers.Dense(100, activation='relu'))\n",
    "model.add(layers.Dense(100, activation='relu'))\n",
    "model.add(layers.Dense(9, activation='sigmoid'))\n",
    "\n",
    "model.compile(loss='categorical_crossentropy', \n",
    "              optimizer='adam', \n",
    "              metrics=['accuracy'])\n",
    "model.summary()\n"
   ]
  },
  {
   "cell_type": "code",
   "execution_count": 21,
   "metadata": {},
   "outputs": [
    {
     "name": "stdout",
     "output_type": "stream",
     "text": [
      "Epoch 1/10\n",
      "7193/7193 [==============================] - 7s 879us/step - loss: 0.6425 - accuracy: 0.9773 - val_loss: 0.2792 - val_accuracy: 0.9427\n",
      "Epoch 2/10\n",
      "7193/7193 [==============================] - 7s 925us/step - loss: 0.1294 - accuracy: 0.9795 - val_loss: 0.3125 - val_accuracy: 0.9428\n",
      "Epoch 3/10\n",
      "7193/7193 [==============================] - 7s 959us/step - loss: 0.1301 - accuracy: 0.9796 - val_loss: 0.2932 - val_accuracy: 0.9429\n",
      "Epoch 4/10\n",
      "7193/7193 [==============================] - 7s 913us/step - loss: 0.1270 - accuracy: 0.9797 - val_loss: 0.2942 - val_accuracy: 0.9432\n",
      "Epoch 5/10\n",
      "7193/7193 [==============================] - 7s 945us/step - loss: 0.1275 - accuracy: 0.9797 - val_loss: 0.2983 - val_accuracy: 0.9430\n",
      "Epoch 6/10\n",
      "7193/7193 [==============================] - 7s 919us/step - loss: 0.1243 - accuracy: 0.9797 - val_loss: 0.2963 - val_accuracy: 0.9430\n",
      "Epoch 7/10\n",
      "7193/7193 [==============================] - 6s 902us/step - loss: 0.1253 - accuracy: 0.9798 - val_loss: 0.2879 - val_accuracy: 0.9459\n",
      "Epoch 8/10\n",
      "7193/7193 [==============================] - 6s 887us/step - loss: 0.1327 - accuracy: 0.9798 - val_loss: 0.2933 - val_accuracy: 0.9435\n",
      "Epoch 9/10\n",
      "7193/7193 [==============================] - 6s 887us/step - loss: 0.1351 - accuracy: 0.9799 - val_loss: 0.2987 - val_accuracy: 0.9432\n",
      "Epoch 10/10\n",
      "7193/7193 [==============================] - 7s 906us/step - loss: 0.1294 - accuracy: 0.9799 - val_loss: 0.2962 - val_accuracy: 0.9431\n"
     ]
    }
   ],
   "source": [
    "from keras.backend import clear_session\n",
    "clear_session()\n",
    "history = model.fit(x_train_stacked, y_train_encoded,\n",
    "                    epochs=10,\n",
    "                    # verbose=False,\n",
    "                    validation_data=(x_test_stacked, y_test_encoded),\n",
    "                    batch_size=50)"
   ]
  },
  {
   "cell_type": "code",
   "execution_count": 22,
   "metadata": {},
   "outputs": [
    {
     "data": {
      "image/png": "[encoded data removed]",
      "text/plain": [
       "<Figure size 864x360 with 2 Axes>"
      ]
     },
     "metadata": {},
     "output_type": "display_data"
    }
   ],
   "source": [
    "plot_history(history)"
   ]
  },
  {
   "cell_type": "code",
   "execution_count": 23,
   "metadata": {},
   "outputs": [
    {
     "data": {
      "text/plain": [
       "(359609, 9)"
      ]
     },
     "execution_count": 23,
     "metadata": {},
     "output_type": "execute_result"
    }
   ],
   "source": [
    "x_train_stacked.shape"
   ]
  },
  {
   "cell_type": "code",
   "execution_count": 34,
   "metadata": {},
   "outputs": [
    {
     "name": "stdout",
     "output_type": "stream",
     "text": [
      "Model: \"sequential\"\n",
      "_________________________________________________________________\n",
      " Layer (type)                Output Shape              Param #   \n",
      "=================================================================\n",
      " lstm (LSTM)                 (None, 32)                5376      \n",
      "                                                                 \n",
      " dense (Dense)               (None, 16)                528       \n",
      "                                                                 \n",
      " dense_1 (Dense)             (None, 9)                 153       \n",
      "                                                                 \n",
      "=================================================================\n",
      "Total params: 6,057\n",
      "Trainable params: 6,057\n",
      "Non-trainable params: 0\n",
      "_________________________________________________________________\n"
     ]
    },
    {
     "data": {
      "text/plain": [
       "(None, 9)"
      ]
     },
     "execution_count": 34,
     "metadata": {},
     "output_type": "execute_result"
    }
   ],
   "source": [
    "from keras.models import Sequential\n",
    "from keras import layers\n",
    "from keras.layers import Dense, LSTM, Flatten\n",
    "\n",
    "model = Sequential()\n",
    "model.add(LSTM(32,input_shape=(None,x_train_stacked.shape[1])))\n",
    "model.add(Dense(16, activation = 'relu'))\n",
    "model.add(Dense(9))\n",
    "\n",
    "model.compile(loss='categorical_crossentropy', \n",
    "              optimizer='adam', \n",
    "              metrics=['accuracy'])\n",
    "model.summary()\n",
    "model.output_shape"
   ]
  },
  {
   "cell_type": "code",
   "execution_count": 35,
   "metadata": {},
   "outputs": [],
   "source": [
    "# x_train_sampled = list()\n",
    "# length = 200\n",
    "# for i in range(0,x_train_stacked.shape[0],length):\n",
    "# \tsample = np.array(x_train_stacked[i:i+length])\n",
    "# \tx_train_sampled.append(sample)\n",
    "# x_train_sampled = np.array(x_train_sampled)\n",
    "# x_train_sampled"
   ]
  },
  {
   "cell_type": "code",
   "execution_count": 36,
   "metadata": {},
   "outputs": [
    {
     "name": "stdout",
     "output_type": "stream",
     "text": [
      "(359609, 1, 9)\n",
      "[[[28848 16623     1 ...    13     0     0]]\n",
      "\n",
      " [[   40    50     6 ...     0     0     0]]\n",
      "\n",
      " [[ 2328   116     3 ...    13     9     0]]\n",
      "\n",
      " ...\n",
      "\n",
      " [[ 1018   690     8 ...    19    37    55]]\n",
      "\n",
      " [[    8     9     4 ...     5     0     0]]\n",
      "\n",
      " [[ 1829  1262     1 ...     0     0     0]]]\n"
     ]
    }
   ],
   "source": [
    "x_train_lstm = x_train_stacked.reshape((x_train_stacked.shape[0],1,x_train_stacked.shape[1]))\n",
    "x_test_lstm = x_test_stacked.reshape((x_test_stacked.shape[0],1,x_test_stacked.shape[1]))\n",
    "print(x_train_lstm.shape)\n",
    "print(x_train_lstm)"
   ]
  },
  {
   "cell_type": "code",
   "execution_count": 37,
   "metadata": {},
   "outputs": [
    {
     "name": "stdout",
     "output_type": "stream",
     "text": [
      "(359609, 9)\n",
      "[[1. 0. 0. ... 0. 0. 0.]\n",
      " [1. 0. 0. ... 0. 0. 0.]\n",
      " [1. 0. 0. ... 0. 0. 0.]\n",
      " ...\n",
      " [1. 0. 0. ... 0. 0. 0.]\n",
      " [1. 0. 0. ... 0. 0. 0.]\n",
      " [1. 0. 0. ... 0. 0. 0.]]\n"
     ]
    }
   ],
   "source": [
    "y_train_lstm = y_train_encoded.reshape(y_train_encoded.shape[0],9)\n",
    "y_test_lstm = y_test_encoded.reshape(y_test_encoded.shape[0],9)\n",
    "# y_train_lstm = y_train.values.reshape(y_train.shape[0],1)\n",
    "# y_test_lstm = y_test.values.reshape(y_test.shape[0],1)\n",
    "print(y_train_lstm.shape)\n",
    "print(y_train_lstm)"
   ]
  },
  {
   "cell_type": "code",
   "execution_count": 38,
   "metadata": {},
   "outputs": [
    {
     "name": "stdout",
     "output_type": "stream",
     "text": [
      "Epoch 1/30\n",
      "7193/7193 [==============================] - 12s 1ms/step - loss: 11.6023 - accuracy: 0.3082 - val_loss: 15.0373 - val_accuracy: 0.8125\n",
      "Epoch 2/30\n",
      "7193/7193 [==============================] - 11s 2ms/step - loss: 11.6720 - accuracy: 0.8482 - val_loss: 8.6630 - val_accuracy: 0.9414\n",
      "Epoch 3/30\n",
      "7193/7193 [==============================] - 11s 1ms/step - loss: 8.2039 - accuracy: 0.8310 - val_loss: 12.7086 - val_accuracy: 0.2646\n",
      "Epoch 4/30\n",
      "7193/7193 [==============================] - 11s 2ms/step - loss: 10.0822 - accuracy: 0.7189 - val_loss: 8.7822 - val_accuracy: 0.9368\n",
      "Epoch 5/30\n",
      "7193/7193 [==============================] - 11s 1ms/step - loss: 4.6483 - accuracy: 0.9777 - val_loss: 0.9456 - val_accuracy: 0.9418\n",
      "Epoch 6/30\n",
      "5360/7193 [=====================>........] - ETA: 2s - loss: 0.6616 - accuracy: 0.9786"
     ]
    }
   ],
   "source": [
    "from keras.backend import clear_session\n",
    "clear_session()\n",
    "history = model.fit(x_train_lstm, y_train_lstm,\n",
    "                    epochs=10,\n",
    "                    # verbose=False,\n",
    "                    validation_data=(x_test_lstm, y_test_lstm),\n",
    "                    batch_size=50)"
   ]
  },
  {
   "cell_type": "code",
   "execution_count": null,
   "metadata": {},
   "outputs": [
    {
     "data": {
      "image/png": "[encoded data removed]",
      "text/plain": [
       "<Figure size 864x360 with 2 Axes>"
      ]
     },
     "metadata": {},
     "output_type": "display_data"
    }
   ],
   "source": [
    "plot_history(history)"
   ]
  },
  {
   "cell_type": "code",
   "execution_count": null,
   "metadata": {},
   "outputs": [
    {
     "data": {
      "text/plain": [
       "[15.288804054260254,\n",
       " 15.305495262145996,\n",
       " 9.682010650634766,\n",
       " 9.752623558044434,\n",
       " 13.421844482421875,\n",
       " 4.6470417976379395,\n",
       " 4.647039413452148,\n",
       " 4.64704704284668,\n",
       " 4.647044658660889,\n",
       " 4.647049427032471,\n",
       " 4.64705228805542,\n",
       " 4.647048473358154,\n",
       " 4.64704704284668,\n",
       " 4.647054672241211,\n",
       " 4.647046089172363,\n",
       " 4.647045612335205,\n",
       " 4.647048473358154,\n",
       " 4.647053241729736,\n",
       " 4.64704704284668,\n",
       " 4.647043228149414,\n",
       " 4.647053241729736,\n",
       " 4.647042274475098,\n",
       " 4.647044658660889,\n",
       " 4.64704704284668,\n",
       " 4.647045612335205,\n",
       " 4.647049427032471,\n",
       " 4.647051811218262,\n",
       " 4.647053241729736,\n",
       " 4.647047519683838,\n",
       " 4.64704704284668]"
      ]
     },
     "execution_count": 32,
     "metadata": {},
     "output_type": "execute_result"
    }
   ],
   "source": [
    "history.history['loss']"
   ]
  }
 ],
 "metadata": {
  "interpreter": {
   "hash": "153fffcb6452074ebcbc9f5807dcc006d9e3a28ff722ca59fd6a7bc0add3f971"
  },
  "kernelspec": {
   "display_name": "Python 3.9.5 64-bit ('pyenv': venv)",
   "language": "python",
   "name": "python3"
  },
  "language_info": {
   "codemirror_mode": {
    "name": "ipython",
    "version": 3
   },
   "file_extension": ".py",
   "mimetype": "text/x-python",
   "name": "python",
   "nbconvert_exporter": "python",
   "pygments_lexer": "ipython3",
   "version": "3.9.5"
  },
  "orig_nbformat": 4
 },
 "nbformat": 4,
 "nbformat_minor": 2
}
